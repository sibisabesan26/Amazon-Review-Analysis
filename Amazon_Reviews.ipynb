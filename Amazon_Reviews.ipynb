{
 "cells": [
  {
   "cell_type": "code",
   "execution_count": null,
   "id": "a7ce2bfa",
   "metadata": {},
   "outputs": [],
   "source": [
    "#importing library\n",
    "\n",
    "import pandas as pd\n",
    "\n",
    "#importing data files\n",
    "\n",
    "df = pd.read_csv('20191226-reviews.csv')\n",
    "df2 = pd.read_csv('20191226-items.csv')"
   ]
  },
  {
   "cell_type": "code",
   "execution_count": null,
   "id": "7298b467",
   "metadata": {},
   "outputs": [],
   "source": [
    "#filtering the data to only bad reviews by creating a new dataframe with only 1 star reviews\n",
    "\n",
    "df_1star = df[df.rating<2]"
   ]
  },
  {
   "cell_type": "code",
   "execution_count": null,
   "id": "3137ee78",
   "metadata": {},
   "outputs": [],
   "source": [
    "#reducing the dataframe from 60,000+ to 500 to decrease iteration time then\n",
    "#converting dataframe into array\n",
    "\n",
    "df_sample = df_1star.sample(500)\n",
    "body_list = df_sample.body.tolist()"
   ]
  },
  {
   "cell_type": "code",
   "execution_count": null,
   "id": "1b38804a",
   "metadata": {},
   "outputs": [],
   "source": [
    "#Looping through each review for the longest common words used\n",
    "\n",
    "from difflib import SequenceMatcher\n",
    "\n",
    "substring_counts={}\n",
    "\n",
    "for i in range(0, len(body_list)):\n",
    "    for j in range(i+1,len(body_list)):\n",
    "        string1 = body_list[i]\n",
    "        string2 = body_list[j]\n",
    "        match = SequenceMatcher(None, string1, string2).find_longest_match(0, len(string1), 0, len(string2))\n",
    "        matching_substring=string1[match.a:match.a+match.size]\n",
    "        if(matching_substring not in substring_counts):\n",
    "            substring_counts[matching_substring]=1\n",
    "        else:\n",
    "            substring_counts[matching_substring]+=1\n",
    "\n",
    "print(substring_counts)"
   ]
  },
  {
   "cell_type": "code",
   "execution_count": null,
   "id": "46146a92",
   "metadata": {},
   "outputs": [],
   "source": [
    "#creates multiple data files that contain certain words from the code above"
   ]
  },
  {
   "cell_type": "code",
   "execution_count": null,
   "id": "b115af03",
   "metadata": {},
   "outputs": [],
   "source": [
    "dfnotwork = df[df.body.str.contains(\"not wor\", na=False)]\n",
    "dfnotwork = dfnotwork.merge(df2, how='inner', on='asin')\n",
    "dfnotwork.to_csv('not wor.csv', index=False)"
   ]
  },
  {
   "cell_type": "code",
   "execution_count": null,
   "id": "407d61a4",
   "metadata": {},
   "outputs": [],
   "source": [
    "dfreturn = df[df.body.str.contains(\"return\", na=False)]\n",
    "dfreturn = dfreturn.merge(df2, how='inner', on='asin')\n",
    "dfreturn.to_csv('returned.csv', index=False)"
   ]
  },
  {
   "cell_type": "code",
   "execution_count": null,
   "id": "f8815743",
   "metadata": {},
   "outputs": [],
   "source": [
    "dfscratch = df[df.body.str.contains(\"scratch\", na=False)]\n",
    "dfscratch = dfscratch.merge(df2, how='inner', on='asin')\n",
    "dfscratch.to_csv('scratch.csv', index=False)"
   ]
  },
  {
   "cell_type": "code",
   "execution_count": null,
   "id": "4591d2b3",
   "metadata": {},
   "outputs": [],
   "source": [
    "dfall = df.merge(df2, how='inner', on='asin')\n",
    "dfall.to_csv('all.csv', index=False)"
   ]
  }
 ],
 "metadata": {
  "kernelspec": {
   "display_name": "Python 3",
   "language": "python",
   "name": "python3"
  },
  "language_info": {
   "codemirror_mode": {
    "name": "ipython",
    "version": 3
   },
   "file_extension": ".py",
   "mimetype": "text/x-python",
   "name": "python",
   "nbconvert_exporter": "python",
   "pygments_lexer": "ipython3",
   "version": "3.7.10"
  }
 },
 "nbformat": 4,
 "nbformat_minor": 5
}
